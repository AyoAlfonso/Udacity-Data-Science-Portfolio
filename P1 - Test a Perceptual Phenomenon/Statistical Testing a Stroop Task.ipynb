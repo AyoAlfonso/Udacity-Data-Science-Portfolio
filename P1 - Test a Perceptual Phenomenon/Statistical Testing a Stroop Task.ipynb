{
 "metadata": {
  "kernelspec": {
   "display_name": "Python 3",
   "language": "python",
   "name": "python3"
  },
  "language_info": {
   "codemirror_mode": {
    "name": "ipython",
    "version": 3
   },
   "file_extension": ".py",
   "mimetype": "text/x-python",
   "name": "python",
   "nbconvert_exporter": "python",
   "pygments_lexer": "ipython3",
   "version": "3.5.1"
  },
  "name": "",
  "signature": "sha256:35cd2009e223b681812e0c47f19f77da74cc5072450b2f673ea5aa6c8415e4a2"
 },
 "nbformat": 3,
 "nbformat_minor": 0,
 "worksheets": [
  {
   "cells": [
    {
     "cell_type": "markdown",
     "metadata": {},
     "source": [
      "## Stroop Test\n",
      "\n",
      "#### In a Stroop test, participants are presented with a list of words, with each word displayed in a color of ink. The participant\u2019s task is to say out loud the color of the ink in which the word is printed.\n",
      "\n",
      "In this project, we will look at some data collected from others who have performed the stroop task and compute some statistics describing the results. Then, interpret the results in terms of hypotheses.\n",
      "\n",
      "[You can click this link to test yourself](https://faculty.washington.edu/chudler/java/timesc.html)\n",
      "\n",
      "![stroop test](https://faculty.washington.edu/chudler/java/stroopa.gif)"
     ]
    },
    {
     "cell_type": "markdown",
     "metadata": {},
     "source": [
      "### 1.What is our independent variable? What is our dependent variable?\n",
      "\n",
      "- Independent variable is the two equal-sized word lists printed in two conditions: congruent(the words being displayed are color words whose names match the colors in which they are printed) and incongruent(whose names do not match the color they are printed). \n",
      "- The dependent variable is the time it takes to name the ink color in equal-sized lists."
     ]
    },
    {
     "cell_type": "markdown",
     "metadata": {},
     "source": [
      "### 2.What is an appropriate set of hypotheses for this task? What kind of statistical test do you expect to perform? Justify your choices.\n",
      "\n",
      "- The null hypothesis states that the differences of two population means, the mean reading time of congruent list (\u03bcc) and the mean reading time of incongruent list (\u03bci) is equal to 0. \n",
      "- The alternative hypothesis states that the difference of two population means, the mean reading time of congruent list (\u03bcc) and the mean reading time of incongruent list (\u03bci) is different than 0.\n",
      "- Null hypothesis Ho: \u03bcc - \u03bci= 0 Alternative hypothesis Ha: \u03bcc - \u03bci \u2260 0\n",
      "\n",
      "#### What kind of statistical test do you expect to perform?\n",
      "\n",
      "This experiment is a within subject design (the same object reading two different lists\uff0c the two samples are dependent), which tests whether the mean of the differences between dependent observations is equal to 0. Since the population's mean and standard deviation is unknow, so it is not applicable to calculate the Z value. We assume that the two distributions are Gaussian. Also, the sample size is less than 30.\n",
      "\n",
      "Thus, I want to perform a dependent samples paired t-test.We can calculte the mean differences of two samples to infer the mean differences of the two populations."
     ]
    },
    {
     "cell_type": "code",
     "collapsed": true,
     "input": [
      "import pandas as pd\n",
      "import numpy as np"
     ],
     "language": "python",
     "metadata": {},
     "outputs": [],
     "prompt_number": 1
    },
    {
     "cell_type": "code",
     "collapsed": false,
     "input": [
      "# Read in the csv dataset and take a look\n",
      "path = r'C:/Users/Administrator/Desktop/Downloads/stroopdata.csv'\n",
      "stroop_data = pd.read_csv(path)\n",
      "stroop_data"
     ],
     "language": "python",
     "metadata": {},
     "outputs": [
      {
       "html": [
        "<div style=\"max-width:1500px;overflow:auto;\">\n",
        "<table border=\"1\" class=\"dataframe\">\n",
        "  <thead>\n",
        "    <tr style=\"text-align: right;\">\n",
        "      <th></th>\n",
        "      <th>Congruent</th>\n",
        "      <th>Incongruent</th>\n",
        "    </tr>\n",
        "  </thead>\n",
        "  <tbody>\n",
        "    <tr>\n",
        "      <th>0</th>\n",
        "      <td>12.079</td>\n",
        "      <td>19.278</td>\n",
        "    </tr>\n",
        "    <tr>\n",
        "      <th>1</th>\n",
        "      <td>16.791</td>\n",
        "      <td>18.741</td>\n",
        "    </tr>\n",
        "    <tr>\n",
        "      <th>2</th>\n",
        "      <td>9.564</td>\n",
        "      <td>21.214</td>\n",
        "    </tr>\n",
        "    <tr>\n",
        "      <th>3</th>\n",
        "      <td>8.630</td>\n",
        "      <td>15.687</td>\n",
        "    </tr>\n",
        "    <tr>\n",
        "      <th>4</th>\n",
        "      <td>14.669</td>\n",
        "      <td>22.803</td>\n",
        "    </tr>\n",
        "    <tr>\n",
        "      <th>5</th>\n",
        "      <td>12.238</td>\n",
        "      <td>20.878</td>\n",
        "    </tr>\n",
        "    <tr>\n",
        "      <th>6</th>\n",
        "      <td>14.692</td>\n",
        "      <td>24.572</td>\n",
        "    </tr>\n",
        "    <tr>\n",
        "      <th>7</th>\n",
        "      <td>8.987</td>\n",
        "      <td>17.394</td>\n",
        "    </tr>\n",
        "    <tr>\n",
        "      <th>8</th>\n",
        "      <td>9.401</td>\n",
        "      <td>20.762</td>\n",
        "    </tr>\n",
        "    <tr>\n",
        "      <th>9</th>\n",
        "      <td>14.480</td>\n",
        "      <td>26.282</td>\n",
        "    </tr>\n",
        "    <tr>\n",
        "      <th>10</th>\n",
        "      <td>22.328</td>\n",
        "      <td>24.524</td>\n",
        "    </tr>\n",
        "    <tr>\n",
        "      <th>11</th>\n",
        "      <td>15.298</td>\n",
        "      <td>18.644</td>\n",
        "    </tr>\n",
        "    <tr>\n",
        "      <th>12</th>\n",
        "      <td>15.073</td>\n",
        "      <td>17.510</td>\n",
        "    </tr>\n",
        "    <tr>\n",
        "      <th>13</th>\n",
        "      <td>16.929</td>\n",
        "      <td>20.330</td>\n",
        "    </tr>\n",
        "    <tr>\n",
        "      <th>14</th>\n",
        "      <td>18.200</td>\n",
        "      <td>35.255</td>\n",
        "    </tr>\n",
        "    <tr>\n",
        "      <th>15</th>\n",
        "      <td>12.130</td>\n",
        "      <td>22.158</td>\n",
        "    </tr>\n",
        "    <tr>\n",
        "      <th>16</th>\n",
        "      <td>18.495</td>\n",
        "      <td>25.139</td>\n",
        "    </tr>\n",
        "    <tr>\n",
        "      <th>17</th>\n",
        "      <td>10.639</td>\n",
        "      <td>20.429</td>\n",
        "    </tr>\n",
        "    <tr>\n",
        "      <th>18</th>\n",
        "      <td>11.344</td>\n",
        "      <td>17.425</td>\n",
        "    </tr>\n",
        "    <tr>\n",
        "      <th>19</th>\n",
        "      <td>12.369</td>\n",
        "      <td>34.288</td>\n",
        "    </tr>\n",
        "    <tr>\n",
        "      <th>20</th>\n",
        "      <td>12.944</td>\n",
        "      <td>23.894</td>\n",
        "    </tr>\n",
        "    <tr>\n",
        "      <th>21</th>\n",
        "      <td>14.233</td>\n",
        "      <td>17.960</td>\n",
        "    </tr>\n",
        "    <tr>\n",
        "      <th>22</th>\n",
        "      <td>19.710</td>\n",
        "      <td>22.058</td>\n",
        "    </tr>\n",
        "    <tr>\n",
        "      <th>23</th>\n",
        "      <td>16.004</td>\n",
        "      <td>21.157</td>\n",
        "    </tr>\n",
        "  </tbody>\n",
        "</table>\n",
        "</div>"
       ],
       "metadata": {},
       "output_type": "pyout",
       "prompt_number": 2,
       "text": [
        "    Congruent  Incongruent\n",
        "0      12.079       19.278\n",
        "1      16.791       18.741\n",
        "2       9.564       21.214\n",
        "3       8.630       15.687\n",
        "4      14.669       22.803\n",
        "5      12.238       20.878\n",
        "6      14.692       24.572\n",
        "7       8.987       17.394\n",
        "8       9.401       20.762\n",
        "9      14.480       26.282\n",
        "10     22.328       24.524\n",
        "11     15.298       18.644\n",
        "12     15.073       17.510\n",
        "13     16.929       20.330\n",
        "14     18.200       35.255\n",
        "15     12.130       22.158\n",
        "16     18.495       25.139\n",
        "17     10.639       20.429\n",
        "18     11.344       17.425\n",
        "19     12.369       34.288\n",
        "20     12.944       23.894\n",
        "21     14.233       17.960\n",
        "22     19.710       22.058\n",
        "23     16.004       21.157"
       ]
      }
     ],
     "prompt_number": 2
    },
    {
     "cell_type": "code",
     "collapsed": false,
     "input": [
      "# Take a look at the summary statistics\n",
      "X1_congruent_stat = stroop_data[\"Congruent\"].describe()\n",
      "X2_incongruent_stat = stroop_data[\"Incongruent\"].describe()\n",
      "print (X1_congruent_stat)\n",
      "print (X2_incongruent_stat)"
     ],
     "language": "python",
     "metadata": {},
     "outputs": [
      {
       "output_type": "stream",
       "stream": "stdout",
       "text": [
        "count    24.000000\n",
        "mean     14.051125\n",
        "std       3.559358\n",
        "min       8.630000\n",
        "25%      11.895250\n",
        "50%      14.356500\n",
        "75%      16.200750\n",
        "max      22.328000\n",
        "Name: Congruent, dtype: float64\n",
        "count    24.000000\n",
        "mean     22.015917\n",
        "std       4.797057\n",
        "min      15.687000\n",
        "25%      18.716750\n",
        "50%      21.017500\n",
        "75%      24.051500\n",
        "max      35.255000\n",
        "Name: Incongruent, dtype: float64\n"
       ]
      }
     ],
     "prompt_number": 3
    },
    {
     "cell_type": "markdown",
     "metadata": {},
     "source": [
      "### 3.Report some descriptive statistics regarding this dataset. Include at least one measure of central tendency and at least one measure of variability. \n",
      "\n",
      "- Measure of central tendency: Mean for congruent sample data set is 14.051; mean for incongruent sample data set is 22.016. \n",
      "- Meansure of variability: Standard deviation for Congruent sample data set is 3.559; mean for incongruent sample data set is 4.797."
     ]
    },
    {
     "cell_type": "markdown",
     "metadata": {},
     "source": [
      "### 4.Provide one or two visualizations that show the distribution of the sample data.(See below) Write one or two sentences noting what you observe about the plot or plots."
     ]
    },
    {
     "cell_type": "code",
     "collapsed": false,
     "input": [
      "%pylab inline\n",
      "import matplotlib.pyplot as plt"
     ],
     "language": "python",
     "metadata": {},
     "outputs": [
      {
       "output_type": "stream",
       "stream": "stdout",
       "text": [
        "Populating the interactive namespace from numpy and matplotlib\n"
       ]
      }
     ],
     "prompt_number": 4
    },
    {
     "cell_type": "code",
     "collapsed": false,
     "input": [
      "plt.hist(stroop_data[\"Congruent\"])\n",
      "plt.xlabel(\"Time to read congruent list\")\n",
      "plt.ylabel(\"frequency\")\n",
      "plt.show()\n",
      "plt.hist(stroop_data[\"Incongruent\"])\n",
      "plt.xlabel(\"Time to read incongruent list\")\n",
      "plt.ylabel(\"frequency\")\n",
      "plt.show()"
     ],
     "language": "python",
     "metadata": {},
     "outputs": [
      {
       "metadata": {},
       "output_type": "display_data",
       "png": "[encoded data removed]",
       "text": [
        "<matplotlib.figure.Figure at 0x9bf4890>"
       ]
      },
      {
       "metadata": {},
       "output_type": "display_data",
       "png": "[encoded data removed]",
       "text": [
        "<matplotlib.figure.Figure at 0x9bf4c50>"
       ]
      }
     ],
     "prompt_number": 5
    },
    {
     "cell_type": "code",
     "collapsed": false,
     "input": [
      "plt.boxplot(stroop_data[\"Congruent\"])\n",
      "plt.xlabel(\"congruent sample\")\n",
      "plt.show()\n",
      "plt.boxplot(stroop_data[\"Incongruent\"])\n",
      "plt.xlabel(\"incongruent sample\")\n",
      "plt.show()"
     ],
     "language": "python",
     "metadata": {},
     "outputs": [
      {
       "metadata": {},
       "output_type": "display_data",
       "png": "[encoded data removed]",
       "text": [
        "<matplotlib.figure.Figure at 0x9c13d10>"
       ]
      },
      {
       "metadata": {},
       "output_type": "display_data",
       "png": "[encoded data removed]",
       "text": [
        "<matplotlib.figure.Figure at 0x9f043b0>"
       ]
      }
     ],
     "prompt_number": 6
    },
    {
     "cell_type": "markdown",
     "metadata": {},
     "source": [
      "Both distributions are unimodal. For the congruent sample, the reading time peaks between 14 and 15. For the incongruent sample, the reading time peaks about 20, and there are two outliers which pull the mean to the right. "
     ]
    },
    {
     "cell_type": "markdown",
     "metadata": {},
     "source": [
      "### 5.Now, perform the statistical test and report your results. \n",
      "- **What is your confidence level and your critical statistic value?**\n",
      "- **Do you reject the null hypothesis or fail to reject it?** \n",
      "- **Come to a conclusion in terms of the experiment task.**\n",
      "- **Did the results match up with your expectations?**"
     ]
    },
    {
     "cell_type": "code",
     "collapsed": false,
     "input": [
      "stroop_data[\"sample_difference\"] = stroop_data[\"Congruent\"]-stroop_data[\"Incongruent\"]\n",
      "# create a column which is the reading time difference for the paired sample.\n",
      "print (stroop_data[\"sample_difference\"])\n",
      "stroop_data[\"sample_difference\"].describe()"
     ],
     "language": "python",
     "metadata": {},
     "outputs": [
      {
       "output_type": "stream",
       "stream": "stdout",
       "text": [
        "0     -7.199\n",
        "1     -1.950\n",
        "2    -11.650\n",
        "3     -7.057\n",
        "4     -8.134\n",
        "5     -8.640\n",
        "6     -9.880\n",
        "7     -8.407\n",
        "8    -11.361\n",
        "9    -11.802\n",
        "10    -2.196\n",
        "11    -3.346\n",
        "12    -2.437\n",
        "13    -3.401\n",
        "14   -17.055\n",
        "15   -10.028\n",
        "16    -6.644\n",
        "17    -9.790\n",
        "18    -6.081\n",
        "19   -21.919\n",
        "20   -10.950\n",
        "21    -3.727\n",
        "22    -2.348\n",
        "23    -5.153\n",
        "Name: sample_difference, dtype: float64\n"
       ]
      },
      {
       "metadata": {},
       "output_type": "pyout",
       "prompt_number": 7,
       "text": [
        "count    24.000000\n",
        "mean     -7.964792\n",
        "std       4.864827\n",
        "min     -21.919000\n",
        "25%     -10.258500\n",
        "50%      -7.666500\n",
        "75%      -3.645500\n",
        "max      -1.950000\n",
        "Name: sample_difference, dtype: float64"
       ]
      }
     ],
     "prompt_number": 7
    },
    {
     "cell_type": "markdown",
     "metadata": {},
     "source": [
      "I choose alpha = 0.05 as the significance level. **With a sample size of 24(degree of freedom is 23), for a two-tail test,according to the table, the t-critical value is -2.069, +2.069.**\n",
      "\n",
      "- The mean difference (d_mean) is -7.965. \n",
      "- The standard deviation \uff08S) of the differences is 4.865.\n",
      "- The standard error of the differences is S/square root of n, so it is calcluated as 0.993.\n",
      "- The 95% confidence interval for the mean difference is (-10.02,-5.91).\n",
      "- The t statistic is d_mean/standard error, which is **-8.021, which is much smaller than the negative t critical value**, so it falls in the critical region.*\n",
      "\n",
      "Thus, we **reject the null hypothesis at a 0.05 sigficance level**. It means the incongruent reading time samples are sigficantly different from the congruent reading time samples. The time needs to read the incongruent list is significantly higher than the time needs to read the congruent list. This experiment matchs up my expectation, and I found it is really hard to read the color right for the incongrument samples, it takes me much longer to finish the same-sized list."
     ]
    },
    {
     "cell_type": "markdown",
     "metadata": {},
     "source": [
      "### 6. What do you think is responsible for the effects observed? Can you think of an alternative or similar task that would result in a similar effect? Some research about the problem will be helpful for thinking about these two questions! \n",
      "\n",
      "I think it is majorly because the color and the meaning of the word interfere with each other, hence our reaction time gets slow. For most of us who know the meaning of the word, feel easier or intuitively to interpret the word itself, instead of being more sensitive to its color. One alternative test could be: select a group of kindergarden kids who doesn't know the words but only can recognize the color(not knowing the words) as the subject. And conduct the a similar study: read of the colors of different cubes, and then read the colors of incongruent words."
     ]
    }
   ],
   "metadata": {}
  }
 ]
}